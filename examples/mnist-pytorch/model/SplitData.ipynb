{
 "cells": [
  {
   "cell_type": "markdown",
   "metadata": {},
   "source": [
    "# split the origional dataset. Different nodes has different amount of data."
   ]
  },
  {
   "cell_type": "code",
   "execution_count": 43,
   "metadata": {},
   "outputs": [],
   "source": [
    "import numpy as np\n",
    "import math\n",
    "from collections import Counter\n",
    "import timeit"
   ]
  },
  {
   "cell_type": "code",
   "execution_count": 44,
   "metadata": {},
   "outputs": [],
   "source": [
    "path = '../app-data/mnist.npz'\n",
    "split_path = '../../ws-mnist-pytorch/'\n",
    "data_name = 'mnist.npz'\n",
    "nodes = 2         # how many nodes\n",
    "proportion = [0.2, 0.8]       # data proportion of each nodes"
   ]
  },
  {
   "cell_type": "code",
   "execution_count": 45,
   "metadata": {},
   "outputs": [
    {
     "name": "stdout",
     "output_type": "stream",
     "text": [
      "['x_test', 'x_train', 'y_train', 'y_test']\n",
      "(60000, 28, 28) (10000, 28, 28)\n"
     ]
    }
   ],
   "source": [
    "# load orgional data\n",
    "with np.load(path) as f:\n",
    "    print(f.files)\n",
    "    xTrain, yTrain = f['x_train'], f['y_train']\n",
    "    xTest, yTest = f['x_test'], f['y_test']\n",
    "print(xTrain.shape, xTest.shape)"
   ]
  },
  {
   "cell_type": "code",
   "execution_count": 46,
   "metadata": {},
   "outputs": [],
   "source": [
    "# split data index\n",
    "train_indexs = [i for i in range(len(xTrain))]\n",
    "train_node_index = []\n",
    "for p in proportion:\n",
    "    train_node_index.append(train_indexs[:math.floor(p*len(xTrain))])\n",
    "    train_indexs = train_indexs[math.floor(p*len(xTrain)):]\n"
   ]
  },
  {
   "cell_type": "code",
   "execution_count": 47,
   "metadata": {},
   "outputs": [
    {
     "name": "stdout",
     "output_type": "stream",
     "text": [
      "xtrain_node0 (12000, 28, 28)\n",
      "ytrain_node0 (12000,)\n",
      "xtrain_node1 (48000, 28, 28)\n",
      "ytrain_node1 (48000,)\n"
     ]
    }
   ],
   "source": [
    "# split data\n",
    "node_data = {}\n",
    "for i, idx in enumerate(train_node_index):\n",
    "    node_data['xtrain_node{}'.format(i)] = xTrain[idx]\n",
    "    node_data['ytrain_node{}'.format(i)] = yTrain[idx]\n",
    "\n",
    "for key in node_data.keys():\n",
    "    print(key, node_data[key].shape)\n"
   ]
  },
  {
   "cell_type": "code",
   "execution_count": 48,
   "metadata": {},
   "outputs": [],
   "source": [
    "# save data\n",
    "for i in range(nodes):\n",
    "    np.savez('../../ws-mnist-pytorch/node'+str(i+1)+'/app-data/'+data_name, \n",
    "            x_train=node_data['xtrain_node{}'.format(i)],\n",
    "            x_test=xTest,\n",
    "            y_train=node_data['ytrain_node{}'.format(i)],\n",
    "            y_test=yTest)"
   ]
  }
 ],
 "metadata": {
  "interpreter": {
   "hash": "cd876119c40028cab099c61ef2a2b5818981311f73eb916c96f6645cbc4fa9aa"
  },
  "kernelspec": {
   "display_name": "Python 3.9.7 ('ML')",
   "language": "python",
   "name": "python3"
  },
  "language_info": {
   "codemirror_mode": {
    "name": "ipython",
    "version": 3
   },
   "file_extension": ".py",
   "mimetype": "text/x-python",
   "name": "python",
   "nbconvert_exporter": "python",
   "pygments_lexer": "ipython3",
   "version": "3.9.7"
  },
  "orig_nbformat": 4
 },
 "nbformat": 4,
 "nbformat_minor": 2
}
