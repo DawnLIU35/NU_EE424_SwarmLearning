{
 "cells": [
  {
   "cell_type": "markdown",
   "metadata": {},
   "source": [
    "# split the origional dataset. Different nodes has different amount of data."
   ]
  },
  {
   "cell_type": "code",
   "execution_count": 24,
   "metadata": {},
   "outputs": [],
   "source": [
    "import numpy as np\n",
    "import math"
   ]
  },
  {
   "cell_type": "code",
   "execution_count": 25,
   "metadata": {},
   "outputs": [],
   "source": [
    "path = '../app-data/mnist.npz'\n",
    "split_path = '../../ws-mnist-pytorch/'\n",
    "data_name = 'mnist.npz'\n",
    "nodes = 2         # how many nodes\n",
    "proportion = [0.5, 0.5]       # data proportion of each nodes"
   ]
  },
  {
   "cell_type": "code",
   "execution_count": 26,
   "metadata": {},
   "outputs": [
    {
     "name": "stdout",
     "output_type": "stream",
     "text": [
      "['x_test', 'x_train', 'y_train', 'y_test']\n",
      "(60000, 28, 28) (10000, 28, 28)\n"
     ]
    }
   ],
   "source": [
    "# load orgional data\n",
    "with np.load(path) as f:\n",
    "    print(f.files)\n",
    "    xTrain, yTrain = f['x_train'], f['y_train']\n",
    "    xTest, yTest = f['x_test'], f['y_test']\n",
    "    xTrain, xTest = xTrain / 255.0, xTest / 255.0 \n",
    "print(xTrain.shape, xTest.shape)"
   ]
  },
  {
   "cell_type": "code",
   "execution_count": 27,
   "metadata": {},
   "outputs": [],
   "source": [
    "# split data index\n",
    "train_indexs = [i for i in range(len(xTrain))]\n",
    "test_indexs = [i for i in range(len(xTest))]\n",
    "train_node_index = []\n",
    "test_node_index = []\n",
    "for p in proportion:\n",
    "    train_node_index.append(train_indexs[:math.floor(p*len(xTrain))])\n",
    "    train_indexs = train_indexs[math.floor(p*len(xTrain)):]\n",
    "    test_node_index.append(test_indexs[:math.floor(p*len(xTest))])\n",
    "    test_indexs = test_indexs[math.floor(p*len(xTest)):]\n"
   ]
  },
  {
   "cell_type": "code",
   "execution_count": 28,
   "metadata": {},
   "outputs": [
    {
     "name": "stdout",
     "output_type": "stream",
     "text": [
      "xtrain_node0 (30000, 28, 28)\n",
      "ytrain_node0 (30000,)\n",
      "xtrain_node1 (30000, 28, 28)\n",
      "ytrain_node1 (30000,)\n",
      "xtest_node0 (5000, 28, 28)\n",
      "ytest_node0 (5000,)\n",
      "xtest_node1 (5000, 28, 28)\n",
      "ytest_node1 (5000,)\n"
     ]
    }
   ],
   "source": [
    "# split data\n",
    "node_data = {}\n",
    "for i, idx in enumerate(train_node_index):\n",
    "    node_data['xtrain_node{}'.format(i)] = xTrain[idx]\n",
    "    node_data['ytrain_node{}'.format(i)] = yTrain[idx]\n",
    "for i, idx in enumerate(test_node_index):\n",
    "    node_data['xtest_node{}'.format(i)] = xTest[idx]\n",
    "    node_data['ytest_node{}'.format(i)] = yTest[idx]\n",
    "\n",
    "for key in node_data.keys():\n",
    "    print(key, node_data[key].shape)\n"
   ]
  },
  {
   "cell_type": "code",
   "execution_count": 33,
   "metadata": {},
   "outputs": [],
   "source": [
    "# save data\n",
    "for i in range(nodes):\n",
    "    np.savez('../../ws-mnist-pytorch/node'+str(i+1)+'/app-data/'+data_name, \n",
    "            x_train=node_data['xtrain_node{}'.format(i)],\n",
    "            x_test=node_data['xtest_node{}'.format(i)],\n",
    "            y_train=node_data['ytrain_node{}'.format(i)],\n",
    "            y_test=node_data['ytest_node{}'.format(i)])"
   ]
  },
  {
   "cell_type": "code",
   "execution_count": 34,
   "metadata": {},
   "outputs": [
    {
     "name": "stdout",
     "output_type": "stream",
     "text": [
      "['x_train', 'x_test', 'y_train', 'y_test']\n"
     ]
    }
   ],
   "source": [
    "testdata = np.load('../../ws-mnist-pytorch/node'+str(i+1)+'/app-data/'+data_name)\n",
    "print(testdata.files)"
   ]
  },
  {
   "cell_type": "code",
   "execution_count": 32,
   "metadata": {},
   "outputs": [
    {
     "name": "stdout",
     "output_type": "stream",
     "text": [
      "(30000, 28, 28)\n"
     ]
    }
   ],
   "source": [
    "print(testdata['xTrain'].shape)"
   ]
  }
 ],
 "metadata": {
  "interpreter": {
   "hash": "cd876119c40028cab099c61ef2a2b5818981311f73eb916c96f6645cbc4fa9aa"
  },
  "kernelspec": {
   "display_name": "Python 3.9.7 ('ML')",
   "language": "python",
   "name": "python3"
  },
  "language_info": {
   "codemirror_mode": {
    "name": "ipython",
    "version": 3
   },
   "file_extension": ".py",
   "mimetype": "text/x-python",
   "name": "python",
   "nbconvert_exporter": "python",
   "pygments_lexer": "ipython3",
   "version": "3.9.7"
  },
  "orig_nbformat": 4
 },
 "nbformat": 4,
 "nbformat_minor": 2
}
